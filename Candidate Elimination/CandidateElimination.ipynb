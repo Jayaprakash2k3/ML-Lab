{
 "cells": [
  {
   "cell_type": "code",
   "execution_count": 46,
   "metadata": {},
   "outputs": [],
   "source": [
    "concepts = [\n",
    "['sunny', 'warm', 'normal', 'strong', 'warm', 'same'],\n",
    "['sunny', 'warm', 'high', 'strong', 'warm', 'same'],\n",
    "['rainy', 'cold', 'high', 'strong', 'warm', 'change'],\n",
    "['sunny', 'warm', 'high', 'strong', 'cool', 'change']\n",
    "]\n",
    "target=[True,True,False,True]\n",
    "i=0\n",
    "def show(s,g):\n",
    "    global i\n",
    "    print(f\"S[{i}]:{s}\")\n",
    "    print(f\"G[{i}]:{g}\")\n",
    "    i=i+1"
   ]
  },
  {
   "cell_type": "code",
   "execution_count": 47,
   "metadata": {},
   "outputs": [
    {
     "name": "stdout",
     "output_type": "stream",
     "text": [
      "S[0]:['sunny', 'warm', 'normal', 'strong', 'warm', 'same']\n",
      "G[0]:[['?', '?', '?', '?', '?', '?'], ['?', '?', '?', '?', '?', '?'], ['?', '?', '?', '?', '?', '?'], ['?', '?', '?', '?', '?', '?'], ['?', '?', '?', '?', '?', '?'], ['?', '?', '?', '?', '?', '?']]\n",
      "S[1]:['sunny', 'warm', '?', 'strong', '?', '?']\n",
      "G[1]:[['sunny', '?', '?', '?', '?', '?'], ['?', 'warm', '?', '?', '?', '?'], ['?', '?', '?', '?', '?', '?'], ['?', '?', '?', '?', '?', '?'], ['?', '?', '?', '?', '?', '?'], ['?', '?', '?', '?', '?', '?']]\n",
      "S[2]:['sunny', 'warm', '?', 'strong', '?', '?']\n",
      "G[2]:[['sunny', '?', '?', '?', '?', '?'], ['?', 'warm', '?', '?', '?', '?']]\n"
     ]
    }
   ],
   "source": [
    "def learn(concepts, target):\n",
    "    specific_h = concepts[0]\n",
    "    general_h = [[\"?\" for i in range(len(specific_h))] for i in range(len(specific_h))]\n",
    "    show(specific_h,general_h)\n",
    "    for i, h in enumerate(concepts):\n",
    "        if target[i]:\n",
    "            for x in range(len(specific_h)):\n",
    "                if h[x]!= specific_h[x]:\n",
    "                    specific_h[x] ='?'\n",
    "                    general_h[x][x] ='?'\n",
    "        else:\n",
    "            for x in range(len(specific_h)):\n",
    "                if h[x]!= specific_h[x]:\n",
    "                    general_h[x][x] = specific_h[x]\n",
    "                else:\n",
    "                    general_h[x][x] = '?'\n",
    "    show(specific_h,general_h)\n",
    "    general_h=[item for item in general_h if item != ['?', '?', '?', '?', '?', '?']]\n",
    "    return specific_h, general_h\n",
    "s_final, g_final = learn(concepts, target)\n",
    "show(s_final,g_final)"
   ]
  }
 ],
 "metadata": {
  "kernelspec": {
   "display_name": "env",
   "language": "python",
   "name": "python3"
  },
  "language_info": {
   "codemirror_mode": {
    "name": "ipython",
    "version": 3
   },
   "file_extension": ".py",
   "mimetype": "text/x-python",
   "name": "python",
   "nbconvert_exporter": "python",
   "pygments_lexer": "ipython3",
   "version": "3.11.6"
  }
 },
 "nbformat": 4,
 "nbformat_minor": 2
}
